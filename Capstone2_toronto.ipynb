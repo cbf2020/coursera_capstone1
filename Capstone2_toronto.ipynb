{
 "cells": [
  {
   "cell_type": "code",
   "execution_count": 1,
   "metadata": {},
   "outputs": [],
   "source": [
    "import pandas as pd\n",
    "import numpy as np\n",
    "from sklearn.cluster import KMeans\n",
    "import requests"
   ]
  },
  {
   "cell_type": "code",
   "execution_count": null,
   "metadata": {},
   "outputs": [],
   "source": [
    "#get html from wiki page and create soup object\n",
    "source = requests.get(\"https://en.wikipedia.org/wiki/List_of_postal_codes_of_Canada:_M\")\n",
    "soup = BeautifulSoup(source.text, 'lxml')\n",
    "\n",
    "#using soup object, iterate the .wikitable to get the data from the HTML page and store it into a list\n",
    "data = []\n",
    "columns = []\n",
    "table = soup.find(class_='wikitable')\n",
    "for index, tr in enumerate(table.find_all('tr')):\n",
    "    section = []\n",
    "    for td in tr.find_all(['th','td']):\n",
    "        section.append(td.text.rstrip())\n",
    "    \n",
    "    #First row of data is the header\n",
    "    if (index == 0):\n",
    "        columns = section\n",
    "    else:\n",
    "        data.append(section)\n",
    "\n",
    "#convert list into Pandas DataFrame\n",
    "canada_df = pd.DataFrame(data = data,columns = columns)\n",
    "canada_df.head()"
   ]
  },
  {
   "cell_type": "code",
   "execution_count": 11,
   "metadata": {},
   "outputs": [
    {
     "data": {
      "text/plain": [
       "(103, 2)"
      ]
     },
     "execution_count": 11,
     "metadata": {},
     "output_type": "execute_result"
    }
   ],
   "source": [
    "url=\"https://en.wikipedia.org/wiki/List_of_postal_codes_of_Canada:_M\"\n",
    "r = requests.get(url, headers=header)\n",
    "tables = pd.read_html(r.text)\n",
    "df=pd.DataFrame(tables[0])\n",
    "\n",
    "# Columns: PostalCode, Borough, and Neighborhood\n",
    "df.columns=['Postcode','Borough','Neighbourhood']\n",
    "df.drop([0],axis=0,inplace=True)\n",
    "df.reset_index()\n",
    "\n",
    "#Ignore cells with no borough\n",
    "df.drop(df[df['Borough']==\"Not assigned\"].index,axis=0, inplace=True)\n",
    "df1=df.groupby(\"Postcode\").agg(lambda x:','.join(set(x)))\n",
    "\n",
    "# If a cell has a borough but a Not assigned neighborhood, neighborhood = borough  \n",
    "df1.loc[df1['Neighbourhood']==\"Not assigned\",'Neighbourhood']=df1.loc[df1['Neighbourhood']==\"Not assigned\",'Borough']\n",
    "\n",
    "df1.shape"
   ]
  },
  {
   "cell_type": "code",
   "execution_count": null,
   "metadata": {},
   "outputs": [],
   "source": []
  }
 ],
 "metadata": {
  "kernelspec": {
   "display_name": "Python 3",
   "language": "python",
   "name": "python3"
  },
  "language_info": {
   "codemirror_mode": {
    "name": "ipython",
    "version": 3
   },
   "file_extension": ".py",
   "mimetype": "text/x-python",
   "name": "python",
   "nbconvert_exporter": "python",
   "pygments_lexer": "ipython3",
   "version": "3.7.6"
  }
 },
 "nbformat": 4,
 "nbformat_minor": 4
}
